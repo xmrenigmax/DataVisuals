{
 "cells": [
  {
   "cell_type": "markdown",
   "id": "20101a64",
   "metadata": {},
   "source": [
    "# DataVisuals : Data Handling and Preparations\n",
    "\n",
    "**This notebook demonstrates the data handling functions**\n",
    "\n",
    "**import_data()**: Find and list data files in a directory\n",
    "    - 📊 **load_file()**: Load data files into pandas DataFrames\n",
    "    - 📋 **get_tables()**: Select which data files to work with\n",
    "    - 🔍 **projection_columns()**: Select which columns to include in analysis"
   ]
  },
  {
   "cell_type": "markdown",
   "id": "5cfd973b",
   "metadata": {},
   "source": [
    "## 1. Setup and Imports"
   ]
  },
  {
   "cell_type": "code",
   "execution_count": null,
   "id": "6a97ad7a",
   "metadata": {},
   "outputs": [],
   "source": [
    "# Import Libraries\n",
    "import pandas as pd\n",
    "import matplotlib.pyplot as plt\n",
    "from matplotlib.backends.backend_pdf import PdfPages\n",
    "\n",
    "import seaborn as sns\n",
    "import os\n",
    "import numpy as np\n",
    "from scipy import stats\n",
    "\n",
    "# set seaborn style\n",
    "sns.set(style=\"whitegrid\")\n",
    "sns.set_context(\"talk\")\n",
    "\n",
    "# set display options\n",
    "pd.set_option('display.max_columns', None)\n",
    "pd.set_option('display.max_rows', None)\n",
    "\n",
    "#set plot styles\n",
    "plt.rcParams['figure.figsize'] = [10, 6]\n",
    "plt.rcParams['figure.dpi'] = 100\n"
   ]
  },
  {
   "cell_type": "markdown",
   "id": "2b3eafdb",
   "metadata": {},
   "source": [
    "# Data Imports Function\n",
    "**imports data from a user-specified directory**\n",
    "\n",
    "returns a list of valid file paths for supported file types"
   ]
  },
  {
   "cell_type": "code",
   "execution_count": null,
   "id": "40cbf8c3",
   "metadata": {},
   "outputs": [],
   "source": [
    "def import_data(directory_path=None):\n",
    "    \"\"\"\n",
    "    Imports data files from a user-specified directory.\n",
    "    Returns a list of valid file paths for supported file formats.\n",
    "    \"\"\"\n",
    "\n",
    "    # Supported file formats\n",
    "    supported_extensions = ['.csv', '.xlsx', '.xls', '.json', '.ods']\n",
    "    \n",
    "    # Keep prompting until we get valid files or user quits\n",
    "    while True:\n",
    "        # Get directory path if not provided\n",
    "        if directory_path is None:\n",
    "            directory_path = input(\"\\n📁 Enter the path to your data files >>> \")\n",
    "            \n",
    "            # Allow user to exit\n",
    "            if directory_path.lower() in ['exit', 'quit', 'q']:\n",
    "                print(\"❌ Operation cancelled.\")\n",
    "                return None\n",
    "        \n",
    "        # Validate directory\n",
    "        if not os.path.isdir(directory_path):\n",
    "            print(f\"⚠️ The directory '{directory_path}' does not exist.\")\n",
    "            directory_path = None\n",
    "            continue\n",
    "            \n",
    "        try:\n",
    "            # Find all supported files\n",
    "            valid_files = []\n",
    "            print(f\"🔍 Searching for data files in: {directory_path}\")\n",
    "            \n",
    "            for file in os.listdir(directory_path):\n",
    "                file_path = os.path.join(directory_path, file)\n",
    "                if os.path.isfile(file_path) and any(file.endswith(ext) for ext in supported_extensions):\n",
    "                    valid_files.append(file_path)\n",
    "            \n",
    "            # Check if we found any files\n",
    "            if not valid_files:\n",
    "                print(f\"⚠️ No supported data files found in '{directory_path}'\")\n",
    "                print(f\"   Supported formats: {', '.join(supported_extensions)}\")\n",
    "                directory_path = None\n",
    "                continue\n",
    "                \n",
    "            # Success! Return the list of files\n",
    "            print(f\"✅ Found {len(valid_files)} data file(s)\")\n",
    "            return valid_files\n",
    "            \n",
    "        except Exception as e:\n",
    "            print(f\"❌ Error accessing directory: {e}\")\n",
    "            directory_path = None"
   ]
  }
 ],
 "metadata": {
  "kernelspec": {
   "display_name": "Python 3",
   "language": "python",
   "name": "python3"
  },
  "language_info": {
   "name": "python",
   "version": "3.12.3"
  }
 },
 "nbformat": 4,
 "nbformat_minor": 5
}
